{
 "cells": [
  {
   "cell_type": "code",
   "execution_count": 3,
   "metadata": {
    "collapsed": true
   },
   "outputs": [],
   "source": [
    "from data_config import EXTRACTED_FOLDER, CLASSES, PALETTE\n",
    "import os\n",
    "import pandas as pd\n",
    "import numpy as np\n",
    "\n",
    "# Define directory paths and classes and colors\n",
    "data_directory = EXTRACTED_FOLDER\n",
    "classes = CLASSES\n",
    "palette = PALETTE\n",
    "\n",
    "# Define the paths to the annotation and image output directories\n",
    "ann_dir = os.path.join(data_directory, \"labels\")\n",
    "img_dir = os.path.join(data_directory, \"images\")"
   ]
  },
  {
   "cell_type": "code",
   "execution_count": 8,
   "outputs": [
    {
     "name": "stdout",
     "output_type": "stream",
     "text": [
      "Loading label file: 0000051.regions.txt\n"
     ]
    }
   ],
   "source": [
    "# load label file and check the unique number of classes\n",
    "# label files end with .regions.txt\n",
    "label_files = [f for f in os.listdir(ann_dir) if f.endswith(\".regions.txt\")]\n",
    "# choose label file to load\n",
    "filename = label_files[1]\n",
    "print(\"Loading label file: {}\".format(filename))\n",
    "seg_map = np.loadtxt(os.path.join(ann_dir, filename)).astype(np.uint8)"
   ],
   "metadata": {
    "collapsed": false
   }
  },
  {
   "cell_type": "code",
   "execution_count": 23,
   "outputs": [],
   "source": [
    "# unique values and their counts\n",
    "unique, counts = np.unique(seg_map, return_counts=True)\n",
    "# create a dataframe with the unique values and their counts\n",
    "df = pd.DataFrame({\"unique\": unique, \"counts\": counts})"
   ],
   "metadata": {
    "collapsed": false
   }
  },
  {
   "cell_type": "code",
   "execution_count": 10,
   "outputs": [
    {
     "data": {
      "text/plain": "   unique  counts\n0       0   34211\n1       1   11944\n2       2   11637\n3       4   17637\n4       7    1356\n5     255      15",
      "text/html": "<div>\n<style scoped>\n    .dataframe tbody tr th:only-of-type {\n        vertical-align: middle;\n    }\n\n    .dataframe tbody tr th {\n        vertical-align: top;\n    }\n\n    .dataframe thead th {\n        text-align: right;\n    }\n</style>\n<table border=\"1\" class=\"dataframe\">\n  <thead>\n    <tr style=\"text-align: right;\">\n      <th></th>\n      <th>unique</th>\n      <th>counts</th>\n    </tr>\n  </thead>\n  <tbody>\n    <tr>\n      <th>0</th>\n      <td>0</td>\n      <td>34211</td>\n    </tr>\n    <tr>\n      <th>1</th>\n      <td>1</td>\n      <td>11944</td>\n    </tr>\n    <tr>\n      <th>2</th>\n      <td>2</td>\n      <td>11637</td>\n    </tr>\n    <tr>\n      <th>3</th>\n      <td>4</td>\n      <td>17637</td>\n    </tr>\n    <tr>\n      <th>4</th>\n      <td>7</td>\n      <td>1356</td>\n    </tr>\n    <tr>\n      <th>5</th>\n      <td>255</td>\n      <td>15</td>\n    </tr>\n  </tbody>\n</table>\n</div>"
     },
     "execution_count": 10,
     "metadata": {},
     "output_type": "execute_result"
    }
   ],
   "source": [
    "df"
   ],
   "metadata": {
    "collapsed": false
   }
  },
  {
   "cell_type": "code",
   "execution_count": 26,
   "outputs": [],
   "source": [
    "from PIL import Image\n",
    "seg_img = Image.fromarray(seg_map).convert('P')\n",
    "seg_img.putpalette(np.array(palette, dtype=np.uint8))"
   ],
   "metadata": {
    "collapsed": false
   }
  },
  {
   "cell_type": "code",
   "execution_count": 27,
   "outputs": [
    {
     "data": {
      "text/plain": "<PIL.Image.Image image mode=P size=320x240>",
      "image/png": "[encoded data removed]"
     },
     "execution_count": 27,
     "metadata": {},
     "output_type": "execute_result"
    }
   ],
   "source": [
    "seg_img"
   ],
   "metadata": {
    "collapsed": false
   }
  },
  {
   "cell_type": "code",
   "execution_count": 21,
   "outputs": [
    {
     "data": {
      "text/plain": "('RGB', b'\\x80\\x80\\x80\\x81\\x7f&xE}5}\"\\x00\\x0b{v\\x14\\x0czQ\\x19\\xf1\\x863')"
     },
     "execution_count": 21,
     "metadata": {},
     "output_type": "execute_result"
    }
   ],
   "source": [
    "seg_img.palette.getdata()"
   ],
   "metadata": {
    "collapsed": false
   }
  },
  {
   "cell_type": "code",
   "execution_count": 22,
   "outputs": [
    {
     "data": {
      "text/plain": "<PIL.Image.Image image mode=P size=320x240>",
      "image/png": "[encoded data removed]"
     },
     "execution_count": 22,
     "metadata": {},
     "output_type": "execute_result"
    }
   ],
   "source": [
    "seg_img"
   ],
   "metadata": {
    "collapsed": false
   }
  },
  {
   "cell_type": "code",
   "execution_count": null,
   "outputs": [],
   "source": [],
   "metadata": {
    "collapsed": false
   }
  }
 ],
 "metadata": {
  "kernelspec": {
   "display_name": "Python 3",
   "language": "python",
   "name": "python3"
  },
  "language_info": {
   "codemirror_mode": {
    "name": "ipython",
    "version": 2
   },
   "file_extension": ".py",
   "mimetype": "text/x-python",
   "name": "python",
   "nbconvert_exporter": "python",
   "pygments_lexer": "ipython2",
   "version": "2.7.6"
  }
 },
 "nbformat": 4,
 "nbformat_minor": 0
}
